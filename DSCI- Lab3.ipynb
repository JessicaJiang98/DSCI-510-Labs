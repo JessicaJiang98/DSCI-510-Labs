{
 "cells": [
  {
   "cell_type": "markdown",
   "metadata": {
    "collapsed": true,
    "pycharm": {
     "is_executing": false,
     "name": "#%% md\n"
    }
   },
   "source": [
    "Lab 3\n",
    "---\n",
    "Hello All,\n",
    "\n",
    "I am Dhrumil Soni, the CP of the course DSCI 510. Welcome to the lab.\n",
    "\n",
    "Guidelines for the Lab:\n",
    "- You will be given the lab assignment in the start of the lab. You're supposed to complete it by the deadline stated on DEN. Should be usually on Friday Midnight.  \n",
    "\n",
    "- You've to complete the assignments individually. If you are having trouble completing the assignment do let me know, I will clear your doubts and guide you but I'll not write code for you and no one else should :) !!!  \n",
    "\n",
    "- You have to fill in the code to this notebook and upload it to your repository. And simply, submit the link to the repo. Also, the repository name has to be in the form 'dsci510-lab(Lab Number)'. For example, first lab would be 'dsci510-lab1'  \n",
    "\n",
    "- You are encouraged to look up resources online like python docs and stackoverflow. But, you are encouraged to look up the topics and not the questions themselves  \n",
    "\n",
    "- Your last submission will be counted towards your grade on DEN and do not edit the repository after the deadline  "
   ]
  },
  {
   "cell_type": "markdown",
   "metadata": {},
   "source": [
    "Q1.[10 points] \n",
    "---\n",
    "Determine if triangle exists or not by checking the sides.  \n",
    "Input type: float, float, float  \n",
    "Return Output: boolean\n",
    "```\n",
    "Condition: \n",
    "each side is smaller than the summation of other two sides\n",
    "```\n",
    "---\n",
    "```\n",
    "Example:  \n",
    "Input  \n",
    "s1=4, s2=5, s3=7\n",
    "Output\n",
    "True\n",
    "```\n",
    "---\n",
    "Rubric: Binary"
   ]
  },
  {
   "cell_type": "code",
   "execution_count": 12,
   "metadata": {},
   "outputs": [
    {
     "data": {
      "text/plain": [
       "True"
      ]
     },
     "execution_count": 12,
     "metadata": {},
     "output_type": "execute_result"
    }
   ],
   "source": [
    "def is_triangle(s1, s2, s3):\n",
    "    s1=float(s1)\n",
    "    s2=float(s2)\n",
    "    s3=float(s3)\n",
    "    if (s1+s2 > s3) or (s1+s3 > s2) or (s2+s3 > s1):\n",
    "        return True\n",
    "    else:\n",
    "        return False\n",
    "    \n",
    "is_triangle(4,5,7)"
   ]
  },
  {
   "cell_type": "markdown",
   "metadata": {},
   "source": [
    "Q2.[10 points]\n",
    "---\n",
    "You are given a function stats which has two params: action(string) and number(float). This function should provide two functionalities:  \n",
    "1. new  \n",
    "   If action is **\"new\"** then a new number is specified for the further calculations. \n",
    "2. get_stat  \n",
    "   If action is **\"get_stat\"** then the code should return with the stats as specified in the format below.  \n",
    "\n",
    "You have to create function `update_stats` which would be invoked when the action is \"new\" and this function should update the stats accordingly for the \"get_stat\" functionality.  \n",
    "\n",
    "Additionally, you have to create functions `get_average` and `get_standard_deviation` which would be invoked when the action is \"get_stat\". You might think that you won't need these functions, but, it is a good idea to calculate values only when required.   \n",
    "\n",
    "\"get_stat\" output format(print):  \n",
    "Average is (value_of_average)  \n",
    "Standard Deviation is (value_of_standard_deviation)  \n",
    "\n",
    "\"new\" output format(print):  \n",
    "Last added number is (last_added_number)  \n",
    "\n",
    "Note: You may need to store some variables outside the functions(perhaps in a different cell altogether) for persistence.  \n",
    "\n",
    "Formula:  \n",
    "$avg = {(\\sum_i x_i)}/N$  \n",
    "$stddev = \\sqrt{E(x^2)-E(x)^2}$\n",
    "\n",
    "---\n",
    "```\n",
    "Example:\n",
    "Input\n",
    "action=new, number=123\n",
    "action=new, number=124\n",
    "action=get_stat\n",
    "Output\n",
    "Last added is 123\n",
    "Last added is 124\n",
    "Average is 123.5\n",
    "Standard Deviation is 0.5\n",
    "```\n",
    "---\n",
    "Rubric: 5 points if code works and prints at the appropriately. Full points if values are correct too. "
   ]
  },
  {
   "cell_type": "code",
   "execution_count": 56,
   "metadata": {},
   "outputs": [],
   "source": [
    "all_number=list()\n",
    "new=\"new\"\n",
    "get_stat=\"get_stat\""
   ]
  },
  {
   "cell_type": "code",
   "execution_count": 57,
   "metadata": {},
   "outputs": [
    {
     "name": "stdout",
     "output_type": "stream",
     "text": [
      "Last added is 123\n",
      "Last added is 124\n",
      "Average is 123.5\n",
      "Standard Deviation is 0.5\n"
     ]
    }
   ],
   "source": [
    "def update_stats(number):\n",
    "    all_number.append(number)\n",
    "    return all_number\n",
    "\n",
    "def get_average(all_number):\n",
    "    mean=sum(all_number)/len(all_number)\n",
    "    print(\"Average is\", sum(all_number)/len(all_number))\n",
    "\n",
    "def get_standard_deviation(all_number):\n",
    "    c= sum(all_number)/len(all_number)\n",
    "    ss=sum((x-c)**2 for x in all_number)\n",
    "    var= ss/len(all_number)\n",
    "    std=var**0.5\n",
    "    print (\"Standard Deviation is\", std)\n",
    "\n",
    "new=\"new\"\n",
    "get_stat=\"get_stat\"\n",
    "def stats(action, number=None):\n",
    "    if action==\"new\":\n",
    "        update_stats(number)\n",
    "        last_added_number=number\n",
    "        print (\"Last added is\", last_added_number)\n",
    "        return all_number\n",
    "    if action==\"get_stat\":\n",
    "        get_average(all_number)\n",
    "        get_standard_deviation(all_number)\n",
    "        \n",
    "        \n",
    "stats(action=new, number=123)\n",
    "stats(action=new, number=124)\n",
    "stats(action=get_stat)"
   ]
  },
  {
   "cell_type": "markdown",
   "metadata": {},
   "source": [
    "Q3[10 points]\n",
    "---\n",
    "Determine if string has valid parantheses or not.    \n",
    "Input: string  \n",
    "Return Output: bool  \n",
    "\n",
    "Note: Only round brackets will be provided in the input. \n",
    "\n",
    "---\n",
    "```\n",
    "Example\n",
    "1. Input: (())  \n",
    "   Output: True\n",
    "2. Input: ((()())  \n",
    "   Output: False\n",
    "```\n",
    "---\n",
    "2 points if code returns appropriate datatype's value. 5 points if code works for the given examples and not universally. 10 points if code works for all cases. "
   ]
  },
  {
   "cell_type": "code",
   "execution_count": 93,
   "metadata": {},
   "outputs": [
    {
     "data": {
      "text/plain": [
       "True"
      ]
     },
     "execution_count": 93,
     "metadata": {},
     "output_type": "execute_result"
    }
   ],
   "source": [
    "left_list = [\"(\"]\n",
    "right_list=[\")\"]\n",
    "\n",
    "\n",
    "def valid_parantheses(val):\n",
    "    stack = []\n",
    "    for i in val:\n",
    "        if i in left_list:\n",
    "            stack.append(i)\n",
    "        elif i in right_list:\n",
    "            pos=right_list.index(i)\n",
    "            if((len(stack)>0)and\n",
    "               (left_list[pos]==stack[len(stack)-1])):\n",
    "                stack.pop()\n",
    "            else:\n",
    "                return False\n",
    "    if len(stack)==0:\n",
    "        return True\n",
    "    else:\n",
    "        return False\n",
    "      \n",
    "valid_parantheses(\"(())\")"
   ]
  },
  {
   "cell_type": "code",
   "execution_count": 90,
   "metadata": {},
   "outputs": [
    {
     "data": {
      "text/plain": [
       "False"
      ]
     },
     "execution_count": 90,
     "metadata": {},
     "output_type": "execute_result"
    }
   ],
   "source": [
    "valid_parantheses(\"((()())\")"
   ]
  },
  {
   "cell_type": "markdown",
   "metadata": {},
   "source": [
    "Finished Early? Bonus/Puzzle Question[5 points]\n",
    "---\n",
    "**Problem Statement:**  \n",
    "Luis, Roni and Diego are best friends. They have known each other since kindergarten. That's why they often share everything with each other and work together on some very hard problems.  \n",
    "\n",
    "Today is Diego's birthday. He really loves pizza so he wants to invite his friends to the pizza restaurant near his house to celebrate her birthday, including his best friends Luis and Roni.  \n",
    "\n",
    "He has ordered a very big round pizza, in order to serve her many friends. Exactly n of Diego's friends are here. That's why he has to divide the pizza into n+1 slices (Diego also needs to eat). He wants the slices to be exactly the same size and shape. If not, some of his friends will get mad and go home early, and the party will be over.  \n",
    "\n",
    "Diego is now hungry. He wants to cut the pizza with minimum of straight cuts. A cut is a straight segment, it might have ends inside or outside the pizza. But he is too lazy to pick up the calculator.  \n",
    "\n",
    "As usual, he will ask Luis and Roni for help. But they haven't come yet. Could you help Diego with this problem?  \n",
    "\n",
    "Input: Integer  \n",
    "Output: Integer  \n",
    "\n",
    "---\n",
    "```\n",
    "Example\n",
    "Input\n",
    "5\n",
    "Output\n",
    "3\n",
    "```\n",
    "---\n",
    "Rubric: Binary"
   ]
  },
  {
   "cell_type": "code",
   "execution_count": 95,
   "metadata": {},
   "outputs": [
    {
     "data": {
      "text/plain": [
       "3"
      ]
     },
     "execution_count": 95,
     "metadata": {},
     "output_type": "execute_result"
    }
   ],
   "source": [
    "def pizza_problem(number_of_friends):\n",
    "    n=int(number_of_friends)+1\n",
    "    if n%2==0:\n",
    "        return int(n/2)\n",
    "    else:\n",
    "        return n\n",
    "\n",
    "pizza_problem(5)"
   ]
  },
  {
   "cell_type": "code",
   "execution_count": null,
   "metadata": {},
   "outputs": [],
   "source": []
  }
 ],
 "metadata": {
  "kernelspec": {
   "display_name": "Python 3",
   "language": "python",
   "name": "python3"
  },
  "language_info": {
   "codemirror_mode": {
    "name": "ipython",
    "version": 3
   },
   "file_extension": ".py",
   "mimetype": "text/x-python",
   "name": "python",
   "nbconvert_exporter": "python",
   "pygments_lexer": "ipython3",
   "version": "3.7.6"
  },
  "pycharm": {
   "stem_cell": {
    "cell_type": "raw",
    "metadata": {
     "collapsed": false
    },
    "source": []
   }
  }
 },
 "nbformat": 4,
 "nbformat_minor": 1
}
